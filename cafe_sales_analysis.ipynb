{
 "cells": [
  {
   "cell_type": "markdown",
   "metadata": {},
   "source": [
    "# Project Introduction\n",
    "\n",
    "In this project, I aim to create a model that predicts sales and suggests products for my cafe. To achieve this, I have collected various datasets, including:\n",
    "\n",
    "- **Item Sales and Daily Sales**: Data from my cafe, available in CSV format.\n",
    "- **Weather Data for Montreal**: Collected from APIs.\n",
    "- **Macroeconomic Indicators**: Collected from APIs.\n",
    "- **Local Holidays for Quebec**: Collected from APIs.\n",
    "- **Pedestrianization Data**: Manual input (after concatenating all datasets)\n",
    "\n",
    "The goal is to utilize these datasets to build a predictive model. At this stage, I have completed the initial data collection."
   ]
  },
  {
   "cell_type": "markdown",
   "metadata": {},
   "source": [
    "## Data Collection"
   ]
  },
  {
   "cell_type": "markdown",
   "metadata": {},
   "source": [
    "### Initial Fetching - Preprocessing"
   ]
  },
  {
   "cell_type": "markdown",
   "metadata": {},
   "source": [
    "#### Imports"
   ]
  },
  {
   "cell_type": "code",
   "execution_count": 76,
   "metadata": {},
   "outputs": [
    {
     "data": {
      "text/plain": [
       "<module 'scripts.data_fetching' from '/Users/vasilisvc6/Documents/Le grand cormoran project/scripts/data_fetching.py'>"
      ]
     },
     "execution_count": 76,
     "metadata": {},
     "output_type": "execute_result"
    }
   ],
   "source": [
    "import importlib\n",
    "import pandas as pd\n",
    "\n",
    "\n",
    "from scripts import data_fetching as df\n",
    "\n",
    "importlib.reload(df)"
   ]
  },
  {
   "cell_type": "markdown",
   "metadata": {},
   "source": [
    "#### Local holidays in QC"
   ]
  },
  {
   "cell_type": "code",
   "execution_count": 65,
   "metadata": {},
   "outputs": [],
   "source": [
    "holidays = df.local_holidays_fetch()"
   ]
  },
  {
   "cell_type": "code",
   "execution_count": 66,
   "metadata": {},
   "outputs": [
    {
     "data": {
      "text/html": [
       "<div>\n",
       "<style scoped>\n",
       "    .dataframe tbody tr th:only-of-type {\n",
       "        vertical-align: middle;\n",
       "    }\n",
       "\n",
       "    .dataframe tbody tr th {\n",
       "        vertical-align: top;\n",
       "    }\n",
       "\n",
       "    .dataframe thead th {\n",
       "        text-align: right;\n",
       "    }\n",
       "</style>\n",
       "<table border=\"1\" class=\"dataframe\">\n",
       "  <thead>\n",
       "    <tr style=\"text-align: right;\">\n",
       "      <th></th>\n",
       "      <th>Name</th>\n",
       "    </tr>\n",
       "    <tr>\n",
       "      <th>Date</th>\n",
       "      <th></th>\n",
       "    </tr>\n",
       "  </thead>\n",
       "  <tbody>\n",
       "    <tr>\n",
       "      <th>2023-10-04</th>\n",
       "      <td>Feast of St Francis of Assisi</td>\n",
       "    </tr>\n",
       "    <tr>\n",
       "      <th>2023-10-06</th>\n",
       "      <td>Hoshana Rabbah</td>\n",
       "    </tr>\n",
       "    <tr>\n",
       "      <th>2023-10-07</th>\n",
       "      <td>Shemini Atzeret</td>\n",
       "    </tr>\n",
       "    <tr>\n",
       "      <th>2023-10-08</th>\n",
       "      <td>Simchat Torah</td>\n",
       "    </tr>\n",
       "    <tr>\n",
       "      <th>2023-10-09</th>\n",
       "      <td>Thanksgiving Day</td>\n",
       "    </tr>\n",
       "    <tr>\n",
       "      <th>...</th>\n",
       "      <td>...</td>\n",
       "    </tr>\n",
       "    <tr>\n",
       "      <th>2024-08-15</th>\n",
       "      <td>Assumption of Mary</td>\n",
       "    </tr>\n",
       "    <tr>\n",
       "      <th>2024-09-02</th>\n",
       "      <td>Labour Day</td>\n",
       "    </tr>\n",
       "    <tr>\n",
       "      <th>2024-09-16</th>\n",
       "      <td>Milad un Nabi (Mawlid)</td>\n",
       "    </tr>\n",
       "    <tr>\n",
       "      <th>2024-09-22</th>\n",
       "      <td>September Equinox</td>\n",
       "    </tr>\n",
       "    <tr>\n",
       "      <th>2024-09-30</th>\n",
       "      <td>National Day for Truth and Reconciliation</td>\n",
       "    </tr>\n",
       "  </tbody>\n",
       "</table>\n",
       "<p>83 rows × 1 columns</p>\n",
       "</div>"
      ],
      "text/plain": [
       "                                                 Name\n",
       "Date                                                 \n",
       "2023-10-04              Feast of St Francis of Assisi\n",
       "2023-10-06                             Hoshana Rabbah\n",
       "2023-10-07                            Shemini Atzeret\n",
       "2023-10-08                              Simchat Torah\n",
       "2023-10-09                           Thanksgiving Day\n",
       "...                                               ...\n",
       "2024-08-15                         Assumption of Mary\n",
       "2024-09-02                                 Labour Day\n",
       "2024-09-16                     Milad un Nabi (Mawlid)\n",
       "2024-09-22                          September Equinox\n",
       "2024-09-30  National Day for Truth and Reconciliation\n",
       "\n",
       "[83 rows x 1 columns]"
      ]
     },
     "execution_count": 66,
     "metadata": {},
     "output_type": "execute_result"
    }
   ],
   "source": [
    "holidays"
   ]
  },
  {
   "cell_type": "markdown",
   "metadata": {},
   "source": [
    "#### Daily sales"
   ]
  },
  {
   "cell_type": "code",
   "execution_count": 77,
   "metadata": {},
   "outputs": [],
   "source": [
    "sales = df.merge_all_sales('data/Sales')"
   ]
  },
  {
   "cell_type": "code",
   "execution_count": 78,
   "metadata": {},
   "outputs": [
    {
     "data": {
      "text/html": [
       "<div>\n",
       "<style scoped>\n",
       "    .dataframe tbody tr th:only-of-type {\n",
       "        vertical-align: middle;\n",
       "    }\n",
       "\n",
       "    .dataframe tbody tr th {\n",
       "        vertical-align: top;\n",
       "    }\n",
       "\n",
       "    .dataframe thead th {\n",
       "        text-align: right;\n",
       "    }\n",
       "</style>\n",
       "<table border=\"1\" class=\"dataframe\">\n",
       "  <thead>\n",
       "    <tr style=\"text-align: right;\">\n",
       "      <th></th>\n",
       "      <th>Gross Sales</th>\n",
       "      <th>Net Sales</th>\n",
       "    </tr>\n",
       "  </thead>\n",
       "  <tbody>\n",
       "    <tr>\n",
       "      <th>2023-10-01</th>\n",
       "      <td>863.50</td>\n",
       "      <td>852.98</td>\n",
       "    </tr>\n",
       "    <tr>\n",
       "      <th>2023-10-02</th>\n",
       "      <td>591.00</td>\n",
       "      <td>585.47</td>\n",
       "    </tr>\n",
       "    <tr>\n",
       "      <th>2023-10-03</th>\n",
       "      <td>506.45</td>\n",
       "      <td>504.45</td>\n",
       "    </tr>\n",
       "    <tr>\n",
       "      <th>2023-10-04</th>\n",
       "      <td>404.65</td>\n",
       "      <td>402.85</td>\n",
       "    </tr>\n",
       "    <tr>\n",
       "      <th>2023-10-05</th>\n",
       "      <td>414.70</td>\n",
       "      <td>413.62</td>\n",
       "    </tr>\n",
       "    <tr>\n",
       "      <th>...</th>\n",
       "      <td>...</td>\n",
       "      <td>...</td>\n",
       "    </tr>\n",
       "    <tr>\n",
       "      <th>2024-10-27</th>\n",
       "      <td>1698.70</td>\n",
       "      <td>1687.55</td>\n",
       "    </tr>\n",
       "    <tr>\n",
       "      <th>2024-10-28</th>\n",
       "      <td>1156.35</td>\n",
       "      <td>1155.11</td>\n",
       "    </tr>\n",
       "    <tr>\n",
       "      <th>2024-10-29</th>\n",
       "      <td>951.05</td>\n",
       "      <td>948.76</td>\n",
       "    </tr>\n",
       "    <tr>\n",
       "      <th>2024-10-30</th>\n",
       "      <td>1074.75</td>\n",
       "      <td>1072.76</td>\n",
       "    </tr>\n",
       "    <tr>\n",
       "      <th>2024-10-31</th>\n",
       "      <td>1351.90</td>\n",
       "      <td>1348.68</td>\n",
       "    </tr>\n",
       "  </tbody>\n",
       "</table>\n",
       "<p>397 rows × 2 columns</p>\n",
       "</div>"
      ],
      "text/plain": [
       "            Gross Sales  Net Sales\n",
       "2023-10-01       863.50     852.98\n",
       "2023-10-02       591.00     585.47\n",
       "2023-10-03       506.45     504.45\n",
       "2023-10-04       404.65     402.85\n",
       "2023-10-05       414.70     413.62\n",
       "...                 ...        ...\n",
       "2024-10-27      1698.70    1687.55\n",
       "2024-10-28      1156.35    1155.11\n",
       "2024-10-29       951.05     948.76\n",
       "2024-10-30      1074.75    1072.76\n",
       "2024-10-31      1351.90    1348.68\n",
       "\n",
       "[397 rows x 2 columns]"
      ]
     },
     "execution_count": 78,
     "metadata": {},
     "output_type": "execute_result"
    }
   ],
   "source": [
    "sales"
   ]
  },
  {
   "cell_type": "markdown",
   "metadata": {},
   "source": [
    "#### Monthly item sales"
   ]
  },
  {
   "cell_type": "code",
   "execution_count": 79,
   "metadata": {},
   "outputs": [
    {
     "name": "stdout",
     "output_type": "stream",
     "text": [
      "Parsed dates: 2023-11-01 00:00:00\n",
      "Parsed dates: 2024-02-01 00:00:00\n",
      "Parsed dates: 2023-12-01 00:00:00\n",
      "Parsed dates: 2024-10-01 00:00:00\n",
      "Parsed dates: 2024-07-01 00:00:00\n",
      "Parsed dates: 2024-01-01 00:00:00\n",
      "Parsed dates: 2024-05-01 00:00:00\n",
      "Parsed dates: 2024-09-01 00:00:00\n",
      "Parsed dates: 2024-03-01 00:00:00\n",
      "Parsed dates: 2023-10-01 00:00:00\n",
      "Parsed dates: 2024-08-01 00:00:00\n",
      "Parsed dates: 2024-04-01 00:00:00\n",
      "Parsed dates: 2024-06-01 00:00:00\n"
     ]
    }
   ],
   "source": [
    "item_sales = df.merge_all_sales('data/Item Sales')"
   ]
  },
  {
   "cell_type": "code",
   "execution_count": 80,
   "metadata": {},
   "outputs": [
    {
     "data": {
      "text/html": [
       "<div>\n",
       "<style scoped>\n",
       "    .dataframe tbody tr th:only-of-type {\n",
       "        vertical-align: middle;\n",
       "    }\n",
       "\n",
       "    .dataframe tbody tr th {\n",
       "        vertical-align: top;\n",
       "    }\n",
       "\n",
       "    .dataframe thead th {\n",
       "        text-align: right;\n",
       "    }\n",
       "</style>\n",
       "<table border=\"1\" class=\"dataframe\">\n",
       "  <thead>\n",
       "    <tr style=\"text-align: right;\">\n",
       "      <th></th>\n",
       "      <th>Category Name</th>\n",
       "      <th>Name</th>\n",
       "      <th>Gross Sales</th>\n",
       "      <th>Net Sales</th>\n",
       "      <th>Sold</th>\n",
       "    </tr>\n",
       "    <tr>\n",
       "      <th>date</th>\n",
       "      <th></th>\n",
       "      <th></th>\n",
       "      <th></th>\n",
       "      <th></th>\n",
       "      <th></th>\n",
       "    </tr>\n",
       "  </thead>\n",
       "  <tbody>\n",
       "    <tr>\n",
       "      <th>2023-10-01</th>\n",
       "      <td>Desserts</td>\n",
       "      <td>Choux A La Creme</td>\n",
       "      <td>139.40</td>\n",
       "      <td>139.40</td>\n",
       "      <td>41</td>\n",
       "    </tr>\n",
       "    <tr>\n",
       "      <th>2023-10-01</th>\n",
       "      <td>Desserts</td>\n",
       "      <td>Tarte au chocolat</td>\n",
       "      <td>82.50</td>\n",
       "      <td>82.50</td>\n",
       "      <td>11</td>\n",
       "    </tr>\n",
       "    <tr>\n",
       "      <th>2023-10-01</th>\n",
       "      <td>Desserts</td>\n",
       "      <td>Chia Pudding</td>\n",
       "      <td>63.00</td>\n",
       "      <td>63.00</td>\n",
       "      <td>7</td>\n",
       "    </tr>\n",
       "    <tr>\n",
       "      <th>2023-10-01</th>\n",
       "      <td>Desserts</td>\n",
       "      <td>Croissant Aux Amandes</td>\n",
       "      <td>51.35</td>\n",
       "      <td>51.35</td>\n",
       "      <td>13</td>\n",
       "    </tr>\n",
       "    <tr>\n",
       "      <th>2023-10-01</th>\n",
       "      <td>Desserts</td>\n",
       "      <td>Tarte De Yuzu</td>\n",
       "      <td>34.00</td>\n",
       "      <td>34.00</td>\n",
       "      <td>4</td>\n",
       "    </tr>\n",
       "    <tr>\n",
       "      <th>...</th>\n",
       "      <td>...</td>\n",
       "      <td>...</td>\n",
       "      <td>...</td>\n",
       "      <td>...</td>\n",
       "      <td>...</td>\n",
       "    </tr>\n",
       "    <tr>\n",
       "      <th>2024-10-01</th>\n",
       "      <td>Desserts</td>\n",
       "      <td>Brioche Citron Noir</td>\n",
       "      <td>106.25</td>\n",
       "      <td>105.61</td>\n",
       "      <td>25</td>\n",
       "    </tr>\n",
       "    <tr>\n",
       "      <th>2024-10-01</th>\n",
       "      <td>Desserts</td>\n",
       "      <td>Biscuit Au Caramel</td>\n",
       "      <td>128.80</td>\n",
       "      <td>128.80</td>\n",
       "      <td>28</td>\n",
       "    </tr>\n",
       "    <tr>\n",
       "      <th>2024-10-01</th>\n",
       "      <td>Desserts</td>\n",
       "      <td>Gâteau au citron</td>\n",
       "      <td>141.90</td>\n",
       "      <td>141.57</td>\n",
       "      <td>43</td>\n",
       "    </tr>\n",
       "    <tr>\n",
       "      <th>2024-10-01</th>\n",
       "      <td>Sans Café - Without Coffee</td>\n",
       "      <td>Earl Grey</td>\n",
       "      <td>237.80</td>\n",
       "      <td>236.37</td>\n",
       "      <td>58</td>\n",
       "    </tr>\n",
       "    <tr>\n",
       "      <th>2024-10-01</th>\n",
       "      <td>Desserts</td>\n",
       "      <td>Carrot Cake</td>\n",
       "      <td>917.70</td>\n",
       "      <td>915.35</td>\n",
       "      <td>195</td>\n",
       "    </tr>\n",
       "  </tbody>\n",
       "</table>\n",
       "<p>916 rows × 5 columns</p>\n",
       "</div>"
      ],
      "text/plain": [
       "                         Category Name                   Name  Gross Sales  \\\n",
       "date                                                                         \n",
       "2023-10-01                    Desserts       Choux A La Creme       139.40   \n",
       "2023-10-01                    Desserts      Tarte au chocolat        82.50   \n",
       "2023-10-01                    Desserts           Chia Pudding        63.00   \n",
       "2023-10-01                    Desserts  Croissant Aux Amandes        51.35   \n",
       "2023-10-01                    Desserts          Tarte De Yuzu        34.00   \n",
       "...                                ...                    ...          ...   \n",
       "2024-10-01                    Desserts    Brioche Citron Noir       106.25   \n",
       "2024-10-01                    Desserts     Biscuit Au Caramel       128.80   \n",
       "2024-10-01                    Desserts       Gâteau au citron       141.90   \n",
       "2024-10-01  Sans Café - Without Coffee              Earl Grey       237.80   \n",
       "2024-10-01                    Desserts            Carrot Cake       917.70   \n",
       "\n",
       "            Net Sales  Sold  \n",
       "date                         \n",
       "2023-10-01     139.40    41  \n",
       "2023-10-01      82.50    11  \n",
       "2023-10-01      63.00     7  \n",
       "2023-10-01      51.35    13  \n",
       "2023-10-01      34.00     4  \n",
       "...               ...   ...  \n",
       "2024-10-01     105.61    25  \n",
       "2024-10-01     128.80    28  \n",
       "2024-10-01     141.57    43  \n",
       "2024-10-01     236.37    58  \n",
       "2024-10-01     915.35   195  \n",
       "\n",
       "[916 rows x 5 columns]"
      ]
     },
     "execution_count": 80,
     "metadata": {},
     "output_type": "execute_result"
    }
   ],
   "source": [
    "item_sales"
   ]
  },
  {
   "cell_type": "markdown",
   "metadata": {},
   "source": [
    "#### Macroeconomic indicators"
   ]
  },
  {
   "cell_type": "code",
   "execution_count": 71,
   "metadata": {},
   "outputs": [],
   "source": [
    "gdp, cpi, unemployment, bond_yields = df.macroeconomic_fetch_fred()"
   ]
  },
  {
   "cell_type": "code",
   "execution_count": 72,
   "metadata": {},
   "outputs": [
    {
     "data": {
      "text/plain": [
       "2023-10-01    589018.5000\n",
       "2024-01-01    591591.8125\n",
       "2024-04-01    594729.3125\n",
       "dtype: float64"
      ]
     },
     "execution_count": 72,
     "metadata": {},
     "output_type": "execute_result"
    }
   ],
   "source": [
    "gdp"
   ]
  },
  {
   "cell_type": "code",
   "execution_count": 73,
   "metadata": {},
   "outputs": [
    {
     "data": {
      "text/plain": [
       "2023-10-01    3.120936\n",
       "2023-11-01    3.116883\n",
       "2023-12-01    3.396473\n",
       "2024-01-01    2.858999\n",
       "2024-02-01    2.783171\n",
       "2024-03-01    2.897618\n",
       "2024-04-01    2.685422\n",
       "2024-05-01    2.866242\n",
       "2024-06-01    2.671756\n",
       "2024-07-01    2.530044\n",
       "2024-08-01    1.953371\n",
       "2024-09-01    1.640379\n",
       "dtype: float64"
      ]
     },
     "execution_count": 73,
     "metadata": {},
     "output_type": "execute_result"
    }
   ],
   "source": [
    "cpi"
   ]
  },
  {
   "cell_type": "code",
   "execution_count": 74,
   "metadata": {},
   "outputs": [
    {
     "data": {
      "text/plain": [
       "2023-10-01    5.7\n",
       "2023-11-01    5.8\n",
       "2023-12-01    5.8\n",
       "2024-01-01    5.7\n",
       "2024-02-01    5.8\n",
       "2024-03-01    6.1\n",
       "2024-04-01    6.1\n",
       "2024-05-01    6.2\n",
       "2024-06-01    6.4\n",
       "2024-07-01    6.4\n",
       "2024-08-01    6.6\n",
       "2024-09-01    6.5\n",
       "2024-10-01    6.5\n",
       "dtype: float64"
      ]
     },
     "execution_count": 74,
     "metadata": {},
     "output_type": "execute_result"
    }
   ],
   "source": [
    "unemployment"
   ]
  },
  {
   "cell_type": "code",
   "execution_count": 75,
   "metadata": {},
   "outputs": [
    {
     "data": {
      "text/plain": [
       "2023-10-01    4.062000\n",
       "2023-11-01    3.710952\n",
       "2023-12-01    3.234211\n",
       "2024-01-01    3.346364\n",
       "2024-02-01    3.504000\n",
       "2024-03-01    3.444000\n",
       "2024-04-01    3.695909\n",
       "2024-05-01    3.641818\n",
       "2024-06-01    3.391500\n",
       "2024-07-01    3.407727\n",
       "2024-08-01    3.071500\n",
       "2024-09-01    2.944444\n",
       "2024-10-01    3.186364\n",
       "dtype: float64"
      ]
     },
     "execution_count": 75,
     "metadata": {},
     "output_type": "execute_result"
    }
   ],
   "source": [
    "bond_yields"
   ]
  }
 ],
 "metadata": {
  "kernelspec": {
   "display_name": ".venv",
   "language": "python",
   "name": "python3"
  },
  "language_info": {
   "codemirror_mode": {
    "name": "ipython",
    "version": 3
   },
   "file_extension": ".py",
   "mimetype": "text/x-python",
   "name": "python",
   "nbconvert_exporter": "python",
   "pygments_lexer": "ipython3",
   "version": "3.13.0"
  }
 },
 "nbformat": 4,
 "nbformat_minor": 2
}
