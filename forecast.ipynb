{
 "cells": [
  {
   "cell_type": "code",
   "execution_count": null,
   "metadata": {},
   "outputs": [],
   "source": [
    "import importlib\n",
    "from scripts import forecast_pipeline as fp\n",
    "from scripts import visuals as vs\n",
    "importlib.reload(fp)\n",
    "importlib.reload(vs)"
   ]
  },
  {
   "cell_type": "markdown",
   "metadata": {},
   "source": [
    "## Current Date"
   ]
  },
  {
   "cell_type": "code",
   "execution_count": null,
   "metadata": {},
   "outputs": [],
   "source": [
    "date = '2024-12-22' # Date in the forecast horizon (2024-12-01 - 2025-02-01)\n",
    "ped_start = '2024-06-01' # Pedestranization start date\n",
    "ped_end = '2024-08-30' # Pedestranization end date"
   ]
  },
  {
   "cell_type": "markdown",
   "metadata": {},
   "source": [
    "## Forecast data pipeline\n",
    "**This cell fetches, engineers, cleans and reorders all of the necessary features. This dataset is ready to be fed to the models.**"
   ]
  },
  {
   "cell_type": "code",
   "execution_count": null,
   "metadata": {},
   "outputs": [],
   "source": [
    "data = fp.forecast_pipe(date, ped_start, ped_end)\n",
    "data.head()"
   ]
  },
  {
   "cell_type": "code",
   "execution_count": null,
   "metadata": {},
   "outputs": [],
   "source": [
    "data.isna().sum()"
   ]
  },
  {
   "cell_type": "markdown",
   "metadata": {},
   "source": [
    "## Predictions\n",
    "**The following three cells load the corresponding model for each of the 3 categories, perform the prediction and return the forecasted values.**"
   ]
  },
  {
   "cell_type": "code",
   "execution_count": null,
   "metadata": {},
   "outputs": [],
   "source": [
    "coffee_predictions = fp.load_sales_model_and_forecast('sales_models/xgb_model_Coffee.pkl', data, date)\n",
    "coffee_predictions.head()"
   ]
  },
  {
   "cell_type": "code",
   "execution_count": null,
   "metadata": {},
   "outputs": [],
   "source": [
    "without_coffee_predictions = fp.load_sales_model_and_forecast('sales_models/xgb_model_Without_Coffee.pkl', data, date)\n",
    "without_coffee_predictions.head()"
   ]
  },
  {
   "cell_type": "code",
   "execution_count": null,
   "metadata": {},
   "outputs": [],
   "source": [
    "food_predictions = fp.load_sales_model_and_forecast('sales_models/xgb_model_Food.pkl', data, date)\n",
    "food_predictions.head()"
   ]
  },
  {
   "cell_type": "markdown",
   "metadata": {},
   "source": [
    "## Results & Visualizations"
   ]
  },
  {
   "cell_type": "code",
   "execution_count": null,
   "metadata": {},
   "outputs": [],
   "source": [
    "categories = ['Coffee', 'Without Coffee', 'Food']\n",
    "vs.plot_sales(coffee_predictions, without_coffee_predictions, food_predictions, categories)"
   ]
  },
  {
   "cell_type": "code",
   "execution_count": null,
   "metadata": {},
   "outputs": [],
   "source": [
    "total_predictions = coffee_predictions + without_coffee_predictions + food_predictions\n",
    "coffee_contribution = round(coffee_predictions['sales'].sum() / total_predictions['sales'].sum() * 100, 2)\n",
    "without_coffee_contribution = round(without_coffee_predictions['sales'].sum() / total_predictions['sales'].sum() * 100, 2)\n",
    "food_contribution = round(food_predictions['sales'].sum() / total_predictions['sales'].sum() * 100, 2)\n",
    "\n",
    "vs.plot_total_sales(total_predictions, coffee_contribution, without_coffee_contribution, food_contribution)"
   ]
  }
 ],
 "metadata": {
  "kernelspec": {
   "display_name": ".venv",
   "language": "python",
   "name": "python3"
  },
  "language_info": {
   "codemirror_mode": {
    "name": "ipython",
    "version": 3
   },
   "file_extension": ".py",
   "mimetype": "text/x-python",
   "name": "python",
   "nbconvert_exporter": "python",
   "pygments_lexer": "ipython3",
   "version": "3.13.0"
  }
 },
 "nbformat": 4,
 "nbformat_minor": 2
}
