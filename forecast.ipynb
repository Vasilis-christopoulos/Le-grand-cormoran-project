{
 "cells": [
  {
   "cell_type": "code",
   "execution_count": 100,
   "metadata": {},
   "outputs": [
    {
     "data": {
      "text/plain": [
       "<module 'scripts.forecast_pipeline' from '/Users/vasilisvc6/Documents/Le grand cormoran project/scripts/forecast_pipeline.py'>"
      ]
     },
     "execution_count": 100,
     "metadata": {},
     "output_type": "execute_result"
    }
   ],
   "source": [
    "import importlib\n",
    "import pandas as pd \n",
    "import seaborn as sns\n",
    "import matplotlib.pyplot as plt\n",
    "from scripts import forecast_pipeline as fp\n",
    "from scripts import data_fetching as df\n",
    "importlib.reload(fp)"
   ]
  },
  {
   "cell_type": "markdown",
   "metadata": {},
   "source": [
    "## Current Date"
   ]
  },
  {
   "cell_type": "code",
   "execution_count": 77,
   "metadata": {},
   "outputs": [],
   "source": [
    "date = '2024-12-22'\n",
    "ped_start = '2024-06-01'\n",
    "ped_end = '2024-08-30'"
   ]
  },
  {
   "cell_type": "markdown",
   "metadata": {},
   "source": [
    "## Macroeconomic Indicators"
   ]
  },
  {
   "cell_type": "code",
   "execution_count": 67,
   "metadata": {},
   "outputs": [],
   "source": [
    "macroeconomic = fp.macro_forecast(date)"
   ]
  },
  {
   "cell_type": "code",
   "execution_count": 68,
   "metadata": {},
   "outputs": [
    {
     "data": {
      "application/vnd.microsoft.datawrangler.viewer.v0+json": {
       "columns": [
        {
         "name": "index",
         "rawType": "datetime64[ns]",
         "type": "datetime"
        },
        {
         "name": "CPI",
         "rawType": "float64",
         "type": "float"
        },
        {
         "name": "Unemployment Rate",
         "rawType": "float64",
         "type": "float"
        },
        {
         "name": "CPI_lag_10",
         "rawType": "float64",
         "type": "float"
        },
        {
         "name": "Unemployment Rate_lag_7",
         "rawType": "float64",
         "type": "float"
        },
        {
         "name": "Unemployment Rate_lag_10",
         "rawType": "float64",
         "type": "float"
        },
        {
         "name": "Unemployment Rate_lag_14",
         "rawType": "float64",
         "type": "float"
        },
        {
         "name": "Unemployment Rate_lag_30",
         "rawType": "float64",
         "type": "float"
        },
        {
         "name": "Bond Yields_lag_7",
         "rawType": "float64",
         "type": "float"
        },
        {
         "name": "Bond Yields_lag_10",
         "rawType": "float64",
         "type": "float"
        },
        {
         "name": "Bond Yields_lag_14",
         "rawType": "float64",
         "type": "float"
        },
        {
         "name": "Bond Yields_lag_30",
         "rawType": "float64",
         "type": "float"
        }
       ],
       "conversionMethod": "pd.DataFrame",
       "ref": "d95cfa0f-1e6e-4ddd-82fe-fb02ce37fd8a",
       "rows": [
        [
         "2024-12-01 00:00:00",
         "3.746553",
         "6.7",
         "3.789761",
         "6.746666666666667",
         "6.766666666666667",
         "6.793333333333334",
         "6.9",
         "3.1888",
         "3.2005000000000003",
         "3.2161000000000004",
         "3.2785"
        ],
        [
         "2024-12-02 00:00:00",
         "3.7426408492580645",
         "6.6967741935483875",
         "3.7854402",
         "6.74",
         "6.760000000000001",
         "6.786666666666667",
         "6.8933333333333335",
         "3.1849000000000003",
         "3.1966",
         "3.2122",
         "3.2746000000000004"
        ],
        [
         "2024-12-03 00:00:00",
         "3.738728698516129",
         "6.693548387096774",
         "3.7811194",
         "6.733333333333333",
         "6.753333333333334",
         "6.78",
         "6.886666666666667",
         "3.181",
         "3.1927000000000003",
         "3.2083000000000004",
         "3.2707"
        ],
        [
         "2024-12-04 00:00:00",
         "3.7348165477741935",
         "6.690322580645161",
         "3.7767986000000002",
         "6.726666666666667",
         "6.746666666666667",
         "6.773333333333333",
         "6.880000000000001",
         "3.1771000000000003",
         "3.1888",
         "3.2044",
         "3.2668000000000004"
        ],
        [
         "2024-12-05 00:00:00",
         "3.730904397032258",
         "6.687096774193549",
         "3.7724778",
         "6.720000000000001",
         "6.74",
         "6.766666666666667",
         "6.873333333333334",
         "3.1732",
         "3.1849000000000003",
         "3.2005000000000003",
         "3.2629"
        ],
        [
         "2024-12-06 00:00:00",
         "3.7269922462903224",
         "6.683870967741935",
         "3.768157",
         "6.713333333333334",
         "6.733333333333333",
         "6.760000000000001",
         "6.866666666666667",
         "3.1693000000000002",
         "3.181",
         "3.1966",
         "3.2590000000000003"
        ],
        [
         "2024-12-07 00:00:00",
         "3.723080095548387",
         "6.680645161290323",
         "3.7638362",
         "6.706666666666667",
         "6.726666666666667",
         "6.753333333333334",
         "6.86",
         "3.1654",
         "3.1771000000000003",
         "3.1927000000000003",
         "3.2551"
        ],
        [
         "2024-12-08 00:00:00",
         "3.7191679448064514",
         "6.67741935483871",
         "3.7595154",
         "6.7",
         "6.720000000000001",
         "6.746666666666667",
         "6.8533333333333335",
         "3.1615",
         "3.1732",
         "3.1888",
         "3.2512000000000003"
        ],
        [
         "2024-12-09 00:00:00",
         "3.7152557940645163",
         "6.674193548387096",
         "3.7551946",
         "6.6967741935483875",
         "6.713333333333334",
         "6.74",
         "6.846666666666667",
         "3.165601173020528",
         "3.1693000000000002",
         "3.1849000000000003",
         "3.2473"
        ],
        [
         "2024-12-10 00:00:00",
         "3.711343643322581",
         "6.670967741935484",
         "3.7508738",
         "6.693548387096774",
         "6.706666666666667",
         "6.733333333333333",
         "6.840000000000001",
         "3.169702346041056",
         "3.1654",
         "3.181",
         "3.2434000000000003"
        ]
       ],
       "shape": {
        "columns": 11,
        "rows": 10
       }
      },
      "text/html": [
       "<div>\n",
       "<style scoped>\n",
       "    .dataframe tbody tr th:only-of-type {\n",
       "        vertical-align: middle;\n",
       "    }\n",
       "\n",
       "    .dataframe tbody tr th {\n",
       "        vertical-align: top;\n",
       "    }\n",
       "\n",
       "    .dataframe thead th {\n",
       "        text-align: right;\n",
       "    }\n",
       "</style>\n",
       "<table border=\"1\" class=\"dataframe\">\n",
       "  <thead>\n",
       "    <tr style=\"text-align: right;\">\n",
       "      <th></th>\n",
       "      <th>CPI</th>\n",
       "      <th>Unemployment Rate</th>\n",
       "      <th>CPI_lag_10</th>\n",
       "      <th>Unemployment Rate_lag_7</th>\n",
       "      <th>Unemployment Rate_lag_10</th>\n",
       "      <th>Unemployment Rate_lag_14</th>\n",
       "      <th>Unemployment Rate_lag_30</th>\n",
       "      <th>Bond Yields_lag_7</th>\n",
       "      <th>Bond Yields_lag_10</th>\n",
       "      <th>Bond Yields_lag_14</th>\n",
       "      <th>Bond Yields_lag_30</th>\n",
       "    </tr>\n",
       "  </thead>\n",
       "  <tbody>\n",
       "    <tr>\n",
       "      <th>2024-12-01</th>\n",
       "      <td>3.746553</td>\n",
       "      <td>6.700000</td>\n",
       "      <td>3.789761</td>\n",
       "      <td>6.746667</td>\n",
       "      <td>6.766667</td>\n",
       "      <td>6.793333</td>\n",
       "      <td>6.900000</td>\n",
       "      <td>3.188800</td>\n",
       "      <td>3.2005</td>\n",
       "      <td>3.2161</td>\n",
       "      <td>3.2785</td>\n",
       "    </tr>\n",
       "    <tr>\n",
       "      <th>2024-12-02</th>\n",
       "      <td>3.742641</td>\n",
       "      <td>6.696774</td>\n",
       "      <td>3.785440</td>\n",
       "      <td>6.740000</td>\n",
       "      <td>6.760000</td>\n",
       "      <td>6.786667</td>\n",
       "      <td>6.893333</td>\n",
       "      <td>3.184900</td>\n",
       "      <td>3.1966</td>\n",
       "      <td>3.2122</td>\n",
       "      <td>3.2746</td>\n",
       "    </tr>\n",
       "    <tr>\n",
       "      <th>2024-12-03</th>\n",
       "      <td>3.738729</td>\n",
       "      <td>6.693548</td>\n",
       "      <td>3.781119</td>\n",
       "      <td>6.733333</td>\n",
       "      <td>6.753333</td>\n",
       "      <td>6.780000</td>\n",
       "      <td>6.886667</td>\n",
       "      <td>3.181000</td>\n",
       "      <td>3.1927</td>\n",
       "      <td>3.2083</td>\n",
       "      <td>3.2707</td>\n",
       "    </tr>\n",
       "    <tr>\n",
       "      <th>2024-12-04</th>\n",
       "      <td>3.734817</td>\n",
       "      <td>6.690323</td>\n",
       "      <td>3.776799</td>\n",
       "      <td>6.726667</td>\n",
       "      <td>6.746667</td>\n",
       "      <td>6.773333</td>\n",
       "      <td>6.880000</td>\n",
       "      <td>3.177100</td>\n",
       "      <td>3.1888</td>\n",
       "      <td>3.2044</td>\n",
       "      <td>3.2668</td>\n",
       "    </tr>\n",
       "    <tr>\n",
       "      <th>2024-12-05</th>\n",
       "      <td>3.730904</td>\n",
       "      <td>6.687097</td>\n",
       "      <td>3.772478</td>\n",
       "      <td>6.720000</td>\n",
       "      <td>6.740000</td>\n",
       "      <td>6.766667</td>\n",
       "      <td>6.873333</td>\n",
       "      <td>3.173200</td>\n",
       "      <td>3.1849</td>\n",
       "      <td>3.2005</td>\n",
       "      <td>3.2629</td>\n",
       "    </tr>\n",
       "    <tr>\n",
       "      <th>2024-12-06</th>\n",
       "      <td>3.726992</td>\n",
       "      <td>6.683871</td>\n",
       "      <td>3.768157</td>\n",
       "      <td>6.713333</td>\n",
       "      <td>6.733333</td>\n",
       "      <td>6.760000</td>\n",
       "      <td>6.866667</td>\n",
       "      <td>3.169300</td>\n",
       "      <td>3.1810</td>\n",
       "      <td>3.1966</td>\n",
       "      <td>3.2590</td>\n",
       "    </tr>\n",
       "    <tr>\n",
       "      <th>2024-12-07</th>\n",
       "      <td>3.723080</td>\n",
       "      <td>6.680645</td>\n",
       "      <td>3.763836</td>\n",
       "      <td>6.706667</td>\n",
       "      <td>6.726667</td>\n",
       "      <td>6.753333</td>\n",
       "      <td>6.860000</td>\n",
       "      <td>3.165400</td>\n",
       "      <td>3.1771</td>\n",
       "      <td>3.1927</td>\n",
       "      <td>3.2551</td>\n",
       "    </tr>\n",
       "    <tr>\n",
       "      <th>2024-12-08</th>\n",
       "      <td>3.719168</td>\n",
       "      <td>6.677419</td>\n",
       "      <td>3.759515</td>\n",
       "      <td>6.700000</td>\n",
       "      <td>6.720000</td>\n",
       "      <td>6.746667</td>\n",
       "      <td>6.853333</td>\n",
       "      <td>3.161500</td>\n",
       "      <td>3.1732</td>\n",
       "      <td>3.1888</td>\n",
       "      <td>3.2512</td>\n",
       "    </tr>\n",
       "    <tr>\n",
       "      <th>2024-12-09</th>\n",
       "      <td>3.715256</td>\n",
       "      <td>6.674194</td>\n",
       "      <td>3.755195</td>\n",
       "      <td>6.696774</td>\n",
       "      <td>6.713333</td>\n",
       "      <td>6.740000</td>\n",
       "      <td>6.846667</td>\n",
       "      <td>3.165601</td>\n",
       "      <td>3.1693</td>\n",
       "      <td>3.1849</td>\n",
       "      <td>3.2473</td>\n",
       "    </tr>\n",
       "    <tr>\n",
       "      <th>2024-12-10</th>\n",
       "      <td>3.711344</td>\n",
       "      <td>6.670968</td>\n",
       "      <td>3.750874</td>\n",
       "      <td>6.693548</td>\n",
       "      <td>6.706667</td>\n",
       "      <td>6.733333</td>\n",
       "      <td>6.840000</td>\n",
       "      <td>3.169702</td>\n",
       "      <td>3.1654</td>\n",
       "      <td>3.1810</td>\n",
       "      <td>3.2434</td>\n",
       "    </tr>\n",
       "  </tbody>\n",
       "</table>\n",
       "</div>"
      ],
      "text/plain": [
       "                 CPI  Unemployment Rate  CPI_lag_10  Unemployment Rate_lag_7  \\\n",
       "2024-12-01  3.746553           6.700000    3.789761                 6.746667   \n",
       "2024-12-02  3.742641           6.696774    3.785440                 6.740000   \n",
       "2024-12-03  3.738729           6.693548    3.781119                 6.733333   \n",
       "2024-12-04  3.734817           6.690323    3.776799                 6.726667   \n",
       "2024-12-05  3.730904           6.687097    3.772478                 6.720000   \n",
       "2024-12-06  3.726992           6.683871    3.768157                 6.713333   \n",
       "2024-12-07  3.723080           6.680645    3.763836                 6.706667   \n",
       "2024-12-08  3.719168           6.677419    3.759515                 6.700000   \n",
       "2024-12-09  3.715256           6.674194    3.755195                 6.696774   \n",
       "2024-12-10  3.711344           6.670968    3.750874                 6.693548   \n",
       "\n",
       "            Unemployment Rate_lag_10  Unemployment Rate_lag_14  \\\n",
       "2024-12-01                  6.766667                  6.793333   \n",
       "2024-12-02                  6.760000                  6.786667   \n",
       "2024-12-03                  6.753333                  6.780000   \n",
       "2024-12-04                  6.746667                  6.773333   \n",
       "2024-12-05                  6.740000                  6.766667   \n",
       "2024-12-06                  6.733333                  6.760000   \n",
       "2024-12-07                  6.726667                  6.753333   \n",
       "2024-12-08                  6.720000                  6.746667   \n",
       "2024-12-09                  6.713333                  6.740000   \n",
       "2024-12-10                  6.706667                  6.733333   \n",
       "\n",
       "            Unemployment Rate_lag_30  Bond Yields_lag_7  Bond Yields_lag_10  \\\n",
       "2024-12-01                  6.900000           3.188800              3.2005   \n",
       "2024-12-02                  6.893333           3.184900              3.1966   \n",
       "2024-12-03                  6.886667           3.181000              3.1927   \n",
       "2024-12-04                  6.880000           3.177100              3.1888   \n",
       "2024-12-05                  6.873333           3.173200              3.1849   \n",
       "2024-12-06                  6.866667           3.169300              3.1810   \n",
       "2024-12-07                  6.860000           3.165400              3.1771   \n",
       "2024-12-08                  6.853333           3.161500              3.1732   \n",
       "2024-12-09                  6.846667           3.165601              3.1693   \n",
       "2024-12-10                  6.840000           3.169702              3.1654   \n",
       "\n",
       "            Bond Yields_lag_14  Bond Yields_lag_30  \n",
       "2024-12-01              3.2161              3.2785  \n",
       "2024-12-02              3.2122              3.2746  \n",
       "2024-12-03              3.2083              3.2707  \n",
       "2024-12-04              3.2044              3.2668  \n",
       "2024-12-05              3.2005              3.2629  \n",
       "2024-12-06              3.1966              3.2590  \n",
       "2024-12-07              3.1927              3.2551  \n",
       "2024-12-08              3.1888              3.2512  \n",
       "2024-12-09              3.1849              3.2473  \n",
       "2024-12-10              3.1810              3.2434  "
      ]
     },
     "execution_count": 68,
     "metadata": {},
     "output_type": "execute_result"
    }
   ],
   "source": [
    "macroeconomic"
   ]
  },
  {
   "cell_type": "markdown",
   "metadata": {},
   "source": [
    "## Weather Forecast"
   ]
  },
  {
   "cell_type": "code",
   "execution_count": null,
   "metadata": {},
   "outputs": [],
   "source": [
    "montreal = fp.weather_forecast(date)"
   ]
  },
  {
   "cell_type": "code",
   "execution_count": 11,
   "metadata": {},
   "outputs": [
    {
     "data": {
      "application/vnd.microsoft.datawrangler.viewer.v0+json": {
       "columns": [
        {
         "name": "time",
         "rawType": "datetime64[ns]",
         "type": "datetime"
        },
        {
         "name": "tavg",
         "rawType": "float64",
         "type": "float"
        },
        {
         "name": "wspd",
         "rawType": "float64",
         "type": "float"
        }
       ],
       "conversionMethod": "pd.DataFrame",
       "ref": "9a1e4cf0-41f6-4a68-92a9-a4926fa31fc0",
       "rows": [
        [
         "2024-12-01 00:00:00",
         "-0.9",
         "15.7"
        ],
        [
         "2024-12-02 00:00:00",
         "-2.0",
         "12.1"
        ],
        [
         "2024-12-03 00:00:00",
         "-2.4",
         "8.4"
        ],
        [
         "2024-12-04 00:00:00",
         "-2.0",
         "15.6"
        ],
        [
         "2024-12-05 00:00:00",
         "-0.2",
         "17.1"
        ],
        [
         "2024-12-06 00:00:00",
         "-7.3",
         "21.4"
        ],
        [
         "2024-12-07 00:00:00",
         "-8.0",
         "8.4"
        ],
        [
         "2024-12-08 00:00:00",
         "0.1",
         "19.0"
        ],
        [
         "2024-12-09 00:00:00",
         "-6.0",
         "14.7"
        ],
        [
         "2024-12-10 00:00:00",
         "-1.2",
         "17.8"
        ]
       ],
       "shape": {
        "columns": 2,
        "rows": 10
       }
      },
      "text/html": [
       "<div>\n",
       "<style scoped>\n",
       "    .dataframe tbody tr th:only-of-type {\n",
       "        vertical-align: middle;\n",
       "    }\n",
       "\n",
       "    .dataframe tbody tr th {\n",
       "        vertical-align: top;\n",
       "    }\n",
       "\n",
       "    .dataframe thead th {\n",
       "        text-align: right;\n",
       "    }\n",
       "</style>\n",
       "<table border=\"1\" class=\"dataframe\">\n",
       "  <thead>\n",
       "    <tr style=\"text-align: right;\">\n",
       "      <th></th>\n",
       "      <th>tavg</th>\n",
       "      <th>wspd</th>\n",
       "    </tr>\n",
       "    <tr>\n",
       "      <th>time</th>\n",
       "      <th></th>\n",
       "      <th></th>\n",
       "    </tr>\n",
       "  </thead>\n",
       "  <tbody>\n",
       "    <tr>\n",
       "      <th>2024-12-01</th>\n",
       "      <td>-0.9</td>\n",
       "      <td>15.7</td>\n",
       "    </tr>\n",
       "    <tr>\n",
       "      <th>2024-12-02</th>\n",
       "      <td>-2.0</td>\n",
       "      <td>12.1</td>\n",
       "    </tr>\n",
       "    <tr>\n",
       "      <th>2024-12-03</th>\n",
       "      <td>-2.4</td>\n",
       "      <td>8.4</td>\n",
       "    </tr>\n",
       "    <tr>\n",
       "      <th>2024-12-04</th>\n",
       "      <td>-2.0</td>\n",
       "      <td>15.6</td>\n",
       "    </tr>\n",
       "    <tr>\n",
       "      <th>2024-12-05</th>\n",
       "      <td>-0.2</td>\n",
       "      <td>17.1</td>\n",
       "    </tr>\n",
       "    <tr>\n",
       "      <th>2024-12-06</th>\n",
       "      <td>-7.3</td>\n",
       "      <td>21.4</td>\n",
       "    </tr>\n",
       "    <tr>\n",
       "      <th>2024-12-07</th>\n",
       "      <td>-8.0</td>\n",
       "      <td>8.4</td>\n",
       "    </tr>\n",
       "    <tr>\n",
       "      <th>2024-12-08</th>\n",
       "      <td>0.1</td>\n",
       "      <td>19.0</td>\n",
       "    </tr>\n",
       "    <tr>\n",
       "      <th>2024-12-09</th>\n",
       "      <td>-6.0</td>\n",
       "      <td>14.7</td>\n",
       "    </tr>\n",
       "    <tr>\n",
       "      <th>2024-12-10</th>\n",
       "      <td>-1.2</td>\n",
       "      <td>17.8</td>\n",
       "    </tr>\n",
       "  </tbody>\n",
       "</table>\n",
       "</div>"
      ],
      "text/plain": [
       "            tavg  wspd\n",
       "time                  \n",
       "2024-12-01  -0.9  15.7\n",
       "2024-12-02  -2.0  12.1\n",
       "2024-12-03  -2.4   8.4\n",
       "2024-12-04  -2.0  15.6\n",
       "2024-12-05  -0.2  17.1\n",
       "2024-12-06  -7.3  21.4\n",
       "2024-12-07  -8.0   8.4\n",
       "2024-12-08   0.1  19.0\n",
       "2024-12-09  -6.0  14.7\n",
       "2024-12-10  -1.2  17.8"
      ]
     },
     "execution_count": 11,
     "metadata": {},
     "output_type": "execute_result"
    }
   ],
   "source": [
    "montreal"
   ]
  },
  {
   "cell_type": "markdown",
   "metadata": {},
   "source": [
    "## Holidays forecast"
   ]
  },
  {
   "cell_type": "code",
   "execution_count": 78,
   "metadata": {},
   "outputs": [
    {
     "data": {
      "application/vnd.microsoft.datawrangler.viewer.v0+json": {
       "columns": [
        {
         "name": "index",
         "rawType": "datetime64[ns]",
         "type": "datetime"
        },
        {
         "name": "holiday_type_2",
         "rawType": "int64",
         "type": "integer"
        },
        {
         "name": "before_holiday",
         "rawType": "int64",
         "type": "integer"
        }
       ],
       "conversionMethod": "pd.DataFrame",
       "ref": "50f0a74f-6a0c-4d8d-9df9-d15dd83942eb",
       "rows": [
        [
         "2024-12-23 00:00:00",
         "0",
         "1"
        ],
        [
         "2024-12-24 00:00:00",
         "1",
         "1"
        ],
        [
         "2024-12-25 00:00:00",
         "1",
         "0"
        ],
        [
         "2024-12-26 00:00:00",
         "0",
         "0"
        ],
        [
         "2024-12-27 00:00:00",
         "0",
         "0"
        ],
        [
         "2024-12-28 00:00:00",
         "0",
         "1"
        ],
        [
         "2024-12-29 00:00:00",
         "0",
         "1"
        ],
        [
         "2024-12-30 00:00:00",
         "0",
         "1"
        ],
        [
         "2024-12-31 00:00:00",
         "1",
         "1"
        ],
        [
         "2025-01-01 00:00:00",
         "1",
         "0"
        ]
       ],
       "shape": {
        "columns": 2,
        "rows": 10
       }
      },
      "text/html": [
       "<div>\n",
       "<style scoped>\n",
       "    .dataframe tbody tr th:only-of-type {\n",
       "        vertical-align: middle;\n",
       "    }\n",
       "\n",
       "    .dataframe tbody tr th {\n",
       "        vertical-align: top;\n",
       "    }\n",
       "\n",
       "    .dataframe thead th {\n",
       "        text-align: right;\n",
       "    }\n",
       "</style>\n",
       "<table border=\"1\" class=\"dataframe\">\n",
       "  <thead>\n",
       "    <tr style=\"text-align: right;\">\n",
       "      <th></th>\n",
       "      <th>holiday_type_2</th>\n",
       "      <th>before_holiday</th>\n",
       "    </tr>\n",
       "  </thead>\n",
       "  <tbody>\n",
       "    <tr>\n",
       "      <th>2024-12-23</th>\n",
       "      <td>0</td>\n",
       "      <td>1</td>\n",
       "    </tr>\n",
       "    <tr>\n",
       "      <th>2024-12-24</th>\n",
       "      <td>1</td>\n",
       "      <td>1</td>\n",
       "    </tr>\n",
       "    <tr>\n",
       "      <th>2024-12-25</th>\n",
       "      <td>1</td>\n",
       "      <td>0</td>\n",
       "    </tr>\n",
       "    <tr>\n",
       "      <th>2024-12-26</th>\n",
       "      <td>0</td>\n",
       "      <td>0</td>\n",
       "    </tr>\n",
       "    <tr>\n",
       "      <th>2024-12-27</th>\n",
       "      <td>0</td>\n",
       "      <td>0</td>\n",
       "    </tr>\n",
       "    <tr>\n",
       "      <th>2024-12-28</th>\n",
       "      <td>0</td>\n",
       "      <td>1</td>\n",
       "    </tr>\n",
       "    <tr>\n",
       "      <th>2024-12-29</th>\n",
       "      <td>0</td>\n",
       "      <td>1</td>\n",
       "    </tr>\n",
       "    <tr>\n",
       "      <th>2024-12-30</th>\n",
       "      <td>0</td>\n",
       "      <td>1</td>\n",
       "    </tr>\n",
       "    <tr>\n",
       "      <th>2024-12-31</th>\n",
       "      <td>1</td>\n",
       "      <td>1</td>\n",
       "    </tr>\n",
       "    <tr>\n",
       "      <th>2025-01-01</th>\n",
       "      <td>1</td>\n",
       "      <td>0</td>\n",
       "    </tr>\n",
       "  </tbody>\n",
       "</table>\n",
       "</div>"
      ],
      "text/plain": [
       "            holiday_type_2  before_holiday\n",
       "2024-12-23               0               1\n",
       "2024-12-24               1               1\n",
       "2024-12-25               1               0\n",
       "2024-12-26               0               0\n",
       "2024-12-27               0               0\n",
       "2024-12-28               0               1\n",
       "2024-12-29               0               1\n",
       "2024-12-30               0               1\n",
       "2024-12-31               1               1\n",
       "2025-01-01               1               0"
      ]
     },
     "execution_count": 78,
     "metadata": {},
     "output_type": "execute_result"
    }
   ],
   "source": [
    "holiday_feature = fp.holiday_feature(date)\n",
    "holiday_feature"
   ]
  },
  {
   "cell_type": "markdown",
   "metadata": {},
   "source": [
    "## Pedestranization"
   ]
  },
  {
   "cell_type": "code",
   "execution_count": 15,
   "metadata": {},
   "outputs": [
    {
     "data": {
      "application/vnd.microsoft.datawrangler.viewer.v0+json": {
       "columns": [
        {
         "name": "index",
         "rawType": "datetime64[ns]",
         "type": "datetime"
        },
        {
         "name": "is_pedestrian",
         "rawType": "int64",
         "type": "integer"
        }
       ],
       "conversionMethod": "pd.DataFrame",
       "ref": "3d5181d6-4fae-4ac8-91c2-c72321416cad",
       "rows": [
        [
         "2024-12-01 00:00:00",
         "0"
        ],
        [
         "2024-12-02 00:00:00",
         "0"
        ],
        [
         "2024-12-03 00:00:00",
         "0"
        ],
        [
         "2024-12-04 00:00:00",
         "0"
        ],
        [
         "2024-12-05 00:00:00",
         "0"
        ],
        [
         "2024-12-06 00:00:00",
         "0"
        ],
        [
         "2024-12-07 00:00:00",
         "0"
        ],
        [
         "2024-12-08 00:00:00",
         "0"
        ],
        [
         "2024-12-09 00:00:00",
         "0"
        ],
        [
         "2024-12-10 00:00:00",
         "0"
        ]
       ],
       "shape": {
        "columns": 1,
        "rows": 10
       }
      },
      "text/html": [
       "<div>\n",
       "<style scoped>\n",
       "    .dataframe tbody tr th:only-of-type {\n",
       "        vertical-align: middle;\n",
       "    }\n",
       "\n",
       "    .dataframe tbody tr th {\n",
       "        vertical-align: top;\n",
       "    }\n",
       "\n",
       "    .dataframe thead th {\n",
       "        text-align: right;\n",
       "    }\n",
       "</style>\n",
       "<table border=\"1\" class=\"dataframe\">\n",
       "  <thead>\n",
       "    <tr style=\"text-align: right;\">\n",
       "      <th></th>\n",
       "      <th>is_pedestrian</th>\n",
       "    </tr>\n",
       "  </thead>\n",
       "  <tbody>\n",
       "    <tr>\n",
       "      <th>2024-12-01</th>\n",
       "      <td>0</td>\n",
       "    </tr>\n",
       "    <tr>\n",
       "      <th>2024-12-02</th>\n",
       "      <td>0</td>\n",
       "    </tr>\n",
       "    <tr>\n",
       "      <th>2024-12-03</th>\n",
       "      <td>0</td>\n",
       "    </tr>\n",
       "    <tr>\n",
       "      <th>2024-12-04</th>\n",
       "      <td>0</td>\n",
       "    </tr>\n",
       "    <tr>\n",
       "      <th>2024-12-05</th>\n",
       "      <td>0</td>\n",
       "    </tr>\n",
       "    <tr>\n",
       "      <th>2024-12-06</th>\n",
       "      <td>0</td>\n",
       "    </tr>\n",
       "    <tr>\n",
       "      <th>2024-12-07</th>\n",
       "      <td>0</td>\n",
       "    </tr>\n",
       "    <tr>\n",
       "      <th>2024-12-08</th>\n",
       "      <td>0</td>\n",
       "    </tr>\n",
       "    <tr>\n",
       "      <th>2024-12-09</th>\n",
       "      <td>0</td>\n",
       "    </tr>\n",
       "    <tr>\n",
       "      <th>2024-12-10</th>\n",
       "      <td>0</td>\n",
       "    </tr>\n",
       "  </tbody>\n",
       "</table>\n",
       "</div>"
      ],
      "text/plain": [
       "            is_pedestrian\n",
       "2024-12-01              0\n",
       "2024-12-02              0\n",
       "2024-12-03              0\n",
       "2024-12-04              0\n",
       "2024-12-05              0\n",
       "2024-12-06              0\n",
       "2024-12-07              0\n",
       "2024-12-08              0\n",
       "2024-12-09              0\n",
       "2024-12-10              0"
      ]
     },
     "execution_count": 15,
     "metadata": {},
     "output_type": "execute_result"
    }
   ],
   "source": [
    "pedestrian_feature = fp.pedestrianization(date, ped_start='2025-06-01', ped_end='2025-08-30')\n",
    "pedestrian_feature"
   ]
  },
  {
   "cell_type": "markdown",
   "metadata": {},
   "source": [
    "## Time based features"
   ]
  },
  {
   "cell_type": "code",
   "execution_count": 16,
   "metadata": {},
   "outputs": [
    {
     "data": {
      "application/vnd.microsoft.datawrangler.viewer.v0+json": {
       "columns": [
        {
         "name": "index",
         "rawType": "datetime64[ns]",
         "type": "datetime"
        },
        {
         "name": "is_weekend",
         "rawType": "int64",
         "type": "integer"
        },
        {
         "name": "day_of_week_4",
         "rawType": "int64",
         "type": "integer"
        },
        {
         "name": "quarter_1",
         "rawType": "int64",
         "type": "integer"
        },
        {
         "name": "quarter_3",
         "rawType": "int64",
         "type": "integer"
        }
       ],
       "conversionMethod": "pd.DataFrame",
       "ref": "c50ea96b-2c56-4cc5-a527-bf19a00a0dd1",
       "rows": [
        [
         "2024-12-01 00:00:00",
         "1",
         "0",
         "0",
         "0"
        ],
        [
         "2024-12-02 00:00:00",
         "0",
         "0",
         "0",
         "0"
        ],
        [
         "2024-12-03 00:00:00",
         "0",
         "0",
         "0",
         "0"
        ],
        [
         "2024-12-04 00:00:00",
         "0",
         "0",
         "0",
         "0"
        ],
        [
         "2024-12-05 00:00:00",
         "0",
         "0",
         "0",
         "0"
        ],
        [
         "2024-12-06 00:00:00",
         "0",
         "1",
         "0",
         "0"
        ],
        [
         "2024-12-07 00:00:00",
         "1",
         "0",
         "0",
         "0"
        ],
        [
         "2024-12-08 00:00:00",
         "1",
         "0",
         "0",
         "0"
        ],
        [
         "2024-12-09 00:00:00",
         "0",
         "0",
         "0",
         "0"
        ],
        [
         "2024-12-10 00:00:00",
         "0",
         "0",
         "0",
         "0"
        ]
       ],
       "shape": {
        "columns": 4,
        "rows": 10
       }
      },
      "text/html": [
       "<div>\n",
       "<style scoped>\n",
       "    .dataframe tbody tr th:only-of-type {\n",
       "        vertical-align: middle;\n",
       "    }\n",
       "\n",
       "    .dataframe tbody tr th {\n",
       "        vertical-align: top;\n",
       "    }\n",
       "\n",
       "    .dataframe thead th {\n",
       "        text-align: right;\n",
       "    }\n",
       "</style>\n",
       "<table border=\"1\" class=\"dataframe\">\n",
       "  <thead>\n",
       "    <tr style=\"text-align: right;\">\n",
       "      <th></th>\n",
       "      <th>is_weekend</th>\n",
       "      <th>day_of_week_4</th>\n",
       "      <th>quarter_1</th>\n",
       "      <th>quarter_3</th>\n",
       "    </tr>\n",
       "  </thead>\n",
       "  <tbody>\n",
       "    <tr>\n",
       "      <th>2024-12-01</th>\n",
       "      <td>1</td>\n",
       "      <td>0</td>\n",
       "      <td>0</td>\n",
       "      <td>0</td>\n",
       "    </tr>\n",
       "    <tr>\n",
       "      <th>2024-12-02</th>\n",
       "      <td>0</td>\n",
       "      <td>0</td>\n",
       "      <td>0</td>\n",
       "      <td>0</td>\n",
       "    </tr>\n",
       "    <tr>\n",
       "      <th>2024-12-03</th>\n",
       "      <td>0</td>\n",
       "      <td>0</td>\n",
       "      <td>0</td>\n",
       "      <td>0</td>\n",
       "    </tr>\n",
       "    <tr>\n",
       "      <th>2024-12-04</th>\n",
       "      <td>0</td>\n",
       "      <td>0</td>\n",
       "      <td>0</td>\n",
       "      <td>0</td>\n",
       "    </tr>\n",
       "    <tr>\n",
       "      <th>2024-12-05</th>\n",
       "      <td>0</td>\n",
       "      <td>0</td>\n",
       "      <td>0</td>\n",
       "      <td>0</td>\n",
       "    </tr>\n",
       "    <tr>\n",
       "      <th>2024-12-06</th>\n",
       "      <td>0</td>\n",
       "      <td>1</td>\n",
       "      <td>0</td>\n",
       "      <td>0</td>\n",
       "    </tr>\n",
       "    <tr>\n",
       "      <th>2024-12-07</th>\n",
       "      <td>1</td>\n",
       "      <td>0</td>\n",
       "      <td>0</td>\n",
       "      <td>0</td>\n",
       "    </tr>\n",
       "    <tr>\n",
       "      <th>2024-12-08</th>\n",
       "      <td>1</td>\n",
       "      <td>0</td>\n",
       "      <td>0</td>\n",
       "      <td>0</td>\n",
       "    </tr>\n",
       "    <tr>\n",
       "      <th>2024-12-09</th>\n",
       "      <td>0</td>\n",
       "      <td>0</td>\n",
       "      <td>0</td>\n",
       "      <td>0</td>\n",
       "    </tr>\n",
       "    <tr>\n",
       "      <th>2024-12-10</th>\n",
       "      <td>0</td>\n",
       "      <td>0</td>\n",
       "      <td>0</td>\n",
       "      <td>0</td>\n",
       "    </tr>\n",
       "  </tbody>\n",
       "</table>\n",
       "</div>"
      ],
      "text/plain": [
       "            is_weekend  day_of_week_4  quarter_1  quarter_3\n",
       "2024-12-01           1              0          0          0\n",
       "2024-12-02           0              0          0          0\n",
       "2024-12-03           0              0          0          0\n",
       "2024-12-04           0              0          0          0\n",
       "2024-12-05           0              0          0          0\n",
       "2024-12-06           0              1          0          0\n",
       "2024-12-07           1              0          0          0\n",
       "2024-12-08           1              0          0          0\n",
       "2024-12-09           0              0          0          0\n",
       "2024-12-10           0              0          0          0"
      ]
     },
     "execution_count": 16,
     "metadata": {},
     "output_type": "execute_result"
    }
   ],
   "source": [
    "time_features = fp.time_features(date)\n",
    "time_features"
   ]
  },
  {
   "cell_type": "markdown",
   "metadata": {},
   "source": [
    "## Forecast data pipeline"
   ]
  },
  {
   "cell_type": "code",
   "execution_count": 79,
   "metadata": {},
   "outputs": [],
   "source": [
    "data = fp.forecast_pipe(date, ped_start, ped_end)"
   ]
  },
  {
   "cell_type": "code",
   "execution_count": 80,
   "metadata": {},
   "outputs": [
    {
     "data": {
      "application/vnd.microsoft.datawrangler.viewer.v0+json": {
       "columns": [
        {
         "name": "index",
         "rawType": "datetime64[ns]",
         "type": "datetime"
        },
        {
         "name": "closed",
         "rawType": "int64",
         "type": "integer"
        },
        {
         "name": "holiday_type_2",
         "rawType": "int64",
         "type": "integer"
        },
        {
         "name": "is_pedestrian",
         "rawType": "int64",
         "type": "integer"
        },
        {
         "name": "is_weekend",
         "rawType": "int64",
         "type": "integer"
        },
        {
         "name": "CPI",
         "rawType": "float64",
         "type": "float"
        },
        {
         "name": "Unemployment Rate",
         "rawType": "float64",
         "type": "float"
        },
        {
         "name": "tavg",
         "rawType": "float64",
         "type": "float"
        },
        {
         "name": "wspd",
         "rawType": "float64",
         "type": "float"
        },
        {
         "name": "quarter_1",
         "rawType": "int64",
         "type": "integer"
        },
        {
         "name": "quarter_3",
         "rawType": "int64",
         "type": "integer"
        },
        {
         "name": "day_of_week_1",
         "rawType": "int64",
         "type": "integer"
        },
        {
         "name": "day_of_week_2",
         "rawType": "int64",
         "type": "integer"
        },
        {
         "name": "day_of_week_4",
         "rawType": "int64",
         "type": "integer"
        },
        {
         "name": "CPI_lag_10",
         "rawType": "float64",
         "type": "float"
        },
        {
         "name": "Unemployment Rate_lag_7",
         "rawType": "float64",
         "type": "float"
        },
        {
         "name": "Unemployment Rate_lag_10",
         "rawType": "float64",
         "type": "float"
        },
        {
         "name": "Unemployment Rate_lag_14",
         "rawType": "float64",
         "type": "float"
        },
        {
         "name": "Unemployment Rate_lag_30",
         "rawType": "float64",
         "type": "float"
        },
        {
         "name": "Bond Yields_lag_7",
         "rawType": "float64",
         "type": "float"
        },
        {
         "name": "Bond Yields_lag_10",
         "rawType": "float64",
         "type": "float"
        },
        {
         "name": "Bond Yields_lag_14",
         "rawType": "float64",
         "type": "float"
        },
        {
         "name": "Bond Yields_lag_30",
         "rawType": "float64",
         "type": "float"
        },
        {
         "name": "before_holiday",
         "rawType": "int64",
         "type": "integer"
        },
        {
         "name": "tavg_weekend",
         "rawType": "float64",
         "type": "float"
        }
       ],
       "conversionMethod": "pd.DataFrame",
       "ref": "996ec478-8544-4a70-bfde-c2c027caf9b7",
       "rows": [
        [
         "2024-12-23 00:00:00",
         "0",
         "0",
         "0",
         "0",
         "3.660485683677419",
         "6.629032258064516",
         "-11.1",
         "7.6",
         "0",
         "0",
         "0",
         "0",
         "0",
         "3.6996071910967743",
         "6.651612903225806",
         "6.661290322580645",
         "6.674193548387096",
         "6.753333333333334",
         "3.223017595307916",
         "3.2107140762463326",
         "3.194309384164222",
         "3.1927000000000003",
         "1",
         "-0.0"
        ],
        [
         "2024-12-24 00:00:00",
         "0",
         "1",
         "0",
         "0",
         "3.6565735329354836",
         "6.625806451612903",
         "-8.9",
         "7.6",
         "0",
         "0",
         "1",
         "0",
         "0",
         "3.6956950403548388",
         "6.648387096774194",
         "6.658064516129032",
         "6.670967741935484",
         "6.746666666666667",
         "3.227118768328444",
         "3.2148152492668607",
         "3.19841055718475",
         "3.1888",
         "1",
         "-0.0"
        ],
        [
         "2024-12-25 00:00:00",
         "0",
         "1",
         "0",
         "0",
         "3.6526613821935485",
         "6.62258064516129",
         "-14.7",
         "4.6",
         "0",
         "0",
         "0",
         "1",
         "0",
         "3.6917828896129032",
         "6.645161290322581",
         "6.654838709677419",
         "6.667741935483871",
         "6.74",
         "3.2312199413489715",
         "3.2189164222873883",
         "3.2025117302052775",
         "3.1849000000000003",
         "0",
         "-0.0"
        ],
        [
         "2024-12-26 00:00:00",
         "0",
         "0",
         "0",
         "0",
         "3.648749231451613",
         "6.619354838709677",
         "-13.3",
         "3.2",
         "0",
         "0",
         "0",
         "0",
         "0",
         "3.6878707388709677",
         "6.641935483870967",
         "6.651612903225806",
         "6.664516129032258",
         "6.733333333333333",
         "3.235321114369499",
         "3.223017595307916",
         "3.206612903225805",
         "3.181",
         "0",
         "-0.0"
        ],
        [
         "2024-12-27 00:00:00",
         "0",
         "0",
         "0",
         "0",
         "3.6448370807096775",
         "6.616129032258065",
         "-10.6",
         "6.2",
         "0",
         "0",
         "0",
         "0",
         "1",
         "3.683958588129032",
         "6.638709677419355",
         "6.648387096774194",
         "6.661290322580645",
         "6.726666666666667",
         "3.239422287390027",
         "3.227118768328444",
         "3.2107140762463326",
         "3.1771000000000003",
         "0",
         "-0.0"
        ],
        [
         "2024-12-28 00:00:00",
         "0",
         "0",
         "0",
         "1",
         "3.640924929967742",
         "6.612903225806451",
         "-6.2",
         "10.5",
         "0",
         "0",
         "0",
         "0",
         "0",
         "3.6800464373870967",
         "6.635483870967742",
         "6.645161290322581",
         "6.658064516129032",
         "6.720000000000001",
         "3.2435234604105547",
         "3.2312199413489715",
         "3.2148152492668607",
         "3.1732",
         "1",
         "-6.2"
        ],
        [
         "2024-12-29 00:00:00",
         "0",
         "0",
         "0",
         "1",
         "3.6370127792258065",
         "6.609677419354838",
         "1.3",
         "10.6",
         "0",
         "0",
         "0",
         "0",
         "0",
         "3.676134286645161",
         "6.632258064516129",
         "6.641935483870967",
         "6.654838709677419",
         "6.713333333333334",
         "3.2476246334310823",
         "3.235321114369499",
         "3.2189164222873883",
         "3.1693000000000002",
         "1",
         "1.3"
        ],
        [
         "2024-12-30 00:00:00",
         "0",
         "0",
         "0",
         "0",
         "3.633100628483871",
         "6.606451612903226",
         "6.5",
         "21.7",
         "0",
         "0",
         "0",
         "0",
         "0",
         "3.6722221359032257",
         "6.629032258064516",
         "6.638709677419355",
         "6.651612903225806",
         "6.706666666666667",
         "3.25172580645161",
         "3.239422287390027",
         "3.223017595307916",
         "3.1654",
         "1",
         "0.0"
        ],
        [
         "2024-12-31 00:00:00",
         "0",
         "1",
         "0",
         "0",
         "3.6291884777419354",
         "6.603225806451612",
         "2.6",
         "16.0",
         "0",
         "0",
         "1",
         "0",
         "0",
         "3.66830998516129",
         "6.625806451612903",
         "6.635483870967742",
         "6.648387096774194",
         "6.7",
         "3.255826979472138",
         "3.2435234604105547",
         "3.227118768328444",
         "3.1615",
         "1",
         "0.0"
        ],
        [
         "2025-01-01 00:00:00",
         "0",
         "1",
         "0",
         "0",
         "3.625276327",
         "6.6",
         "0.6",
         "14.5",
         "1",
         "0",
         "0",
         "1",
         "0",
         "3.6643978344193546",
         "6.62258064516129",
         "6.632258064516129",
         "6.645161290322581",
         "6.6967741935483875",
         "3.2599281524926655",
         "3.2476246334310823",
         "3.2312199413489715",
         "3.165601173020528",
         "0",
         "0.0"
        ]
       ],
       "shape": {
        "columns": 24,
        "rows": 10
       }
      },
      "text/html": [
       "<div>\n",
       "<style scoped>\n",
       "    .dataframe tbody tr th:only-of-type {\n",
       "        vertical-align: middle;\n",
       "    }\n",
       "\n",
       "    .dataframe tbody tr th {\n",
       "        vertical-align: top;\n",
       "    }\n",
       "\n",
       "    .dataframe thead th {\n",
       "        text-align: right;\n",
       "    }\n",
       "</style>\n",
       "<table border=\"1\" class=\"dataframe\">\n",
       "  <thead>\n",
       "    <tr style=\"text-align: right;\">\n",
       "      <th></th>\n",
       "      <th>closed</th>\n",
       "      <th>holiday_type_2</th>\n",
       "      <th>is_pedestrian</th>\n",
       "      <th>is_weekend</th>\n",
       "      <th>CPI</th>\n",
       "      <th>Unemployment Rate</th>\n",
       "      <th>tavg</th>\n",
       "      <th>wspd</th>\n",
       "      <th>quarter_1</th>\n",
       "      <th>quarter_3</th>\n",
       "      <th>...</th>\n",
       "      <th>Unemployment Rate_lag_7</th>\n",
       "      <th>Unemployment Rate_lag_10</th>\n",
       "      <th>Unemployment Rate_lag_14</th>\n",
       "      <th>Unemployment Rate_lag_30</th>\n",
       "      <th>Bond Yields_lag_7</th>\n",
       "      <th>Bond Yields_lag_10</th>\n",
       "      <th>Bond Yields_lag_14</th>\n",
       "      <th>Bond Yields_lag_30</th>\n",
       "      <th>before_holiday</th>\n",
       "      <th>tavg_weekend</th>\n",
       "    </tr>\n",
       "  </thead>\n",
       "  <tbody>\n",
       "    <tr>\n",
       "      <th>2024-12-23</th>\n",
       "      <td>0</td>\n",
       "      <td>0</td>\n",
       "      <td>0</td>\n",
       "      <td>0</td>\n",
       "      <td>3.660486</td>\n",
       "      <td>6.629032</td>\n",
       "      <td>-11.1</td>\n",
       "      <td>7.6</td>\n",
       "      <td>0</td>\n",
       "      <td>0</td>\n",
       "      <td>...</td>\n",
       "      <td>6.651613</td>\n",
       "      <td>6.661290</td>\n",
       "      <td>6.674194</td>\n",
       "      <td>6.753333</td>\n",
       "      <td>3.223018</td>\n",
       "      <td>3.210714</td>\n",
       "      <td>3.194309</td>\n",
       "      <td>3.192700</td>\n",
       "      <td>1</td>\n",
       "      <td>-0.0</td>\n",
       "    </tr>\n",
       "    <tr>\n",
       "      <th>2024-12-24</th>\n",
       "      <td>0</td>\n",
       "      <td>1</td>\n",
       "      <td>0</td>\n",
       "      <td>0</td>\n",
       "      <td>3.656574</td>\n",
       "      <td>6.625806</td>\n",
       "      <td>-8.9</td>\n",
       "      <td>7.6</td>\n",
       "      <td>0</td>\n",
       "      <td>0</td>\n",
       "      <td>...</td>\n",
       "      <td>6.648387</td>\n",
       "      <td>6.658065</td>\n",
       "      <td>6.670968</td>\n",
       "      <td>6.746667</td>\n",
       "      <td>3.227119</td>\n",
       "      <td>3.214815</td>\n",
       "      <td>3.198411</td>\n",
       "      <td>3.188800</td>\n",
       "      <td>1</td>\n",
       "      <td>-0.0</td>\n",
       "    </tr>\n",
       "    <tr>\n",
       "      <th>2024-12-25</th>\n",
       "      <td>0</td>\n",
       "      <td>1</td>\n",
       "      <td>0</td>\n",
       "      <td>0</td>\n",
       "      <td>3.652661</td>\n",
       "      <td>6.622581</td>\n",
       "      <td>-14.7</td>\n",
       "      <td>4.6</td>\n",
       "      <td>0</td>\n",
       "      <td>0</td>\n",
       "      <td>...</td>\n",
       "      <td>6.645161</td>\n",
       "      <td>6.654839</td>\n",
       "      <td>6.667742</td>\n",
       "      <td>6.740000</td>\n",
       "      <td>3.231220</td>\n",
       "      <td>3.218916</td>\n",
       "      <td>3.202512</td>\n",
       "      <td>3.184900</td>\n",
       "      <td>0</td>\n",
       "      <td>-0.0</td>\n",
       "    </tr>\n",
       "    <tr>\n",
       "      <th>2024-12-26</th>\n",
       "      <td>0</td>\n",
       "      <td>0</td>\n",
       "      <td>0</td>\n",
       "      <td>0</td>\n",
       "      <td>3.648749</td>\n",
       "      <td>6.619355</td>\n",
       "      <td>-13.3</td>\n",
       "      <td>3.2</td>\n",
       "      <td>0</td>\n",
       "      <td>0</td>\n",
       "      <td>...</td>\n",
       "      <td>6.641935</td>\n",
       "      <td>6.651613</td>\n",
       "      <td>6.664516</td>\n",
       "      <td>6.733333</td>\n",
       "      <td>3.235321</td>\n",
       "      <td>3.223018</td>\n",
       "      <td>3.206613</td>\n",
       "      <td>3.181000</td>\n",
       "      <td>0</td>\n",
       "      <td>-0.0</td>\n",
       "    </tr>\n",
       "    <tr>\n",
       "      <th>2024-12-27</th>\n",
       "      <td>0</td>\n",
       "      <td>0</td>\n",
       "      <td>0</td>\n",
       "      <td>0</td>\n",
       "      <td>3.644837</td>\n",
       "      <td>6.616129</td>\n",
       "      <td>-10.6</td>\n",
       "      <td>6.2</td>\n",
       "      <td>0</td>\n",
       "      <td>0</td>\n",
       "      <td>...</td>\n",
       "      <td>6.638710</td>\n",
       "      <td>6.648387</td>\n",
       "      <td>6.661290</td>\n",
       "      <td>6.726667</td>\n",
       "      <td>3.239422</td>\n",
       "      <td>3.227119</td>\n",
       "      <td>3.210714</td>\n",
       "      <td>3.177100</td>\n",
       "      <td>0</td>\n",
       "      <td>-0.0</td>\n",
       "    </tr>\n",
       "    <tr>\n",
       "      <th>2024-12-28</th>\n",
       "      <td>0</td>\n",
       "      <td>0</td>\n",
       "      <td>0</td>\n",
       "      <td>1</td>\n",
       "      <td>3.640925</td>\n",
       "      <td>6.612903</td>\n",
       "      <td>-6.2</td>\n",
       "      <td>10.5</td>\n",
       "      <td>0</td>\n",
       "      <td>0</td>\n",
       "      <td>...</td>\n",
       "      <td>6.635484</td>\n",
       "      <td>6.645161</td>\n",
       "      <td>6.658065</td>\n",
       "      <td>6.720000</td>\n",
       "      <td>3.243523</td>\n",
       "      <td>3.231220</td>\n",
       "      <td>3.214815</td>\n",
       "      <td>3.173200</td>\n",
       "      <td>1</td>\n",
       "      <td>-6.2</td>\n",
       "    </tr>\n",
       "    <tr>\n",
       "      <th>2024-12-29</th>\n",
       "      <td>0</td>\n",
       "      <td>0</td>\n",
       "      <td>0</td>\n",
       "      <td>1</td>\n",
       "      <td>3.637013</td>\n",
       "      <td>6.609677</td>\n",
       "      <td>1.3</td>\n",
       "      <td>10.6</td>\n",
       "      <td>0</td>\n",
       "      <td>0</td>\n",
       "      <td>...</td>\n",
       "      <td>6.632258</td>\n",
       "      <td>6.641935</td>\n",
       "      <td>6.654839</td>\n",
       "      <td>6.713333</td>\n",
       "      <td>3.247625</td>\n",
       "      <td>3.235321</td>\n",
       "      <td>3.218916</td>\n",
       "      <td>3.169300</td>\n",
       "      <td>1</td>\n",
       "      <td>1.3</td>\n",
       "    </tr>\n",
       "    <tr>\n",
       "      <th>2024-12-30</th>\n",
       "      <td>0</td>\n",
       "      <td>0</td>\n",
       "      <td>0</td>\n",
       "      <td>0</td>\n",
       "      <td>3.633101</td>\n",
       "      <td>6.606452</td>\n",
       "      <td>6.5</td>\n",
       "      <td>21.7</td>\n",
       "      <td>0</td>\n",
       "      <td>0</td>\n",
       "      <td>...</td>\n",
       "      <td>6.629032</td>\n",
       "      <td>6.638710</td>\n",
       "      <td>6.651613</td>\n",
       "      <td>6.706667</td>\n",
       "      <td>3.251726</td>\n",
       "      <td>3.239422</td>\n",
       "      <td>3.223018</td>\n",
       "      <td>3.165400</td>\n",
       "      <td>1</td>\n",
       "      <td>0.0</td>\n",
       "    </tr>\n",
       "    <tr>\n",
       "      <th>2024-12-31</th>\n",
       "      <td>0</td>\n",
       "      <td>1</td>\n",
       "      <td>0</td>\n",
       "      <td>0</td>\n",
       "      <td>3.629188</td>\n",
       "      <td>6.603226</td>\n",
       "      <td>2.6</td>\n",
       "      <td>16.0</td>\n",
       "      <td>0</td>\n",
       "      <td>0</td>\n",
       "      <td>...</td>\n",
       "      <td>6.625806</td>\n",
       "      <td>6.635484</td>\n",
       "      <td>6.648387</td>\n",
       "      <td>6.700000</td>\n",
       "      <td>3.255827</td>\n",
       "      <td>3.243523</td>\n",
       "      <td>3.227119</td>\n",
       "      <td>3.161500</td>\n",
       "      <td>1</td>\n",
       "      <td>0.0</td>\n",
       "    </tr>\n",
       "    <tr>\n",
       "      <th>2025-01-01</th>\n",
       "      <td>0</td>\n",
       "      <td>1</td>\n",
       "      <td>0</td>\n",
       "      <td>0</td>\n",
       "      <td>3.625276</td>\n",
       "      <td>6.600000</td>\n",
       "      <td>0.6</td>\n",
       "      <td>14.5</td>\n",
       "      <td>1</td>\n",
       "      <td>0</td>\n",
       "      <td>...</td>\n",
       "      <td>6.622581</td>\n",
       "      <td>6.632258</td>\n",
       "      <td>6.645161</td>\n",
       "      <td>6.696774</td>\n",
       "      <td>3.259928</td>\n",
       "      <td>3.247625</td>\n",
       "      <td>3.231220</td>\n",
       "      <td>3.165601</td>\n",
       "      <td>0</td>\n",
       "      <td>0.0</td>\n",
       "    </tr>\n",
       "  </tbody>\n",
       "</table>\n",
       "<p>10 rows × 24 columns</p>\n",
       "</div>"
      ],
      "text/plain": [
       "            closed  holiday_type_2  is_pedestrian  is_weekend       CPI  \\\n",
       "2024-12-23       0               0              0           0  3.660486   \n",
       "2024-12-24       0               1              0           0  3.656574   \n",
       "2024-12-25       0               1              0           0  3.652661   \n",
       "2024-12-26       0               0              0           0  3.648749   \n",
       "2024-12-27       0               0              0           0  3.644837   \n",
       "2024-12-28       0               0              0           1  3.640925   \n",
       "2024-12-29       0               0              0           1  3.637013   \n",
       "2024-12-30       0               0              0           0  3.633101   \n",
       "2024-12-31       0               1              0           0  3.629188   \n",
       "2025-01-01       0               1              0           0  3.625276   \n",
       "\n",
       "            Unemployment Rate  tavg  wspd  quarter_1  quarter_3  ...  \\\n",
       "2024-12-23           6.629032 -11.1   7.6          0          0  ...   \n",
       "2024-12-24           6.625806  -8.9   7.6          0          0  ...   \n",
       "2024-12-25           6.622581 -14.7   4.6          0          0  ...   \n",
       "2024-12-26           6.619355 -13.3   3.2          0          0  ...   \n",
       "2024-12-27           6.616129 -10.6   6.2          0          0  ...   \n",
       "2024-12-28           6.612903  -6.2  10.5          0          0  ...   \n",
       "2024-12-29           6.609677   1.3  10.6          0          0  ...   \n",
       "2024-12-30           6.606452   6.5  21.7          0          0  ...   \n",
       "2024-12-31           6.603226   2.6  16.0          0          0  ...   \n",
       "2025-01-01           6.600000   0.6  14.5          1          0  ...   \n",
       "\n",
       "            Unemployment Rate_lag_7  Unemployment Rate_lag_10  \\\n",
       "2024-12-23                 6.651613                  6.661290   \n",
       "2024-12-24                 6.648387                  6.658065   \n",
       "2024-12-25                 6.645161                  6.654839   \n",
       "2024-12-26                 6.641935                  6.651613   \n",
       "2024-12-27                 6.638710                  6.648387   \n",
       "2024-12-28                 6.635484                  6.645161   \n",
       "2024-12-29                 6.632258                  6.641935   \n",
       "2024-12-30                 6.629032                  6.638710   \n",
       "2024-12-31                 6.625806                  6.635484   \n",
       "2025-01-01                 6.622581                  6.632258   \n",
       "\n",
       "            Unemployment Rate_lag_14  Unemployment Rate_lag_30  \\\n",
       "2024-12-23                  6.674194                  6.753333   \n",
       "2024-12-24                  6.670968                  6.746667   \n",
       "2024-12-25                  6.667742                  6.740000   \n",
       "2024-12-26                  6.664516                  6.733333   \n",
       "2024-12-27                  6.661290                  6.726667   \n",
       "2024-12-28                  6.658065                  6.720000   \n",
       "2024-12-29                  6.654839                  6.713333   \n",
       "2024-12-30                  6.651613                  6.706667   \n",
       "2024-12-31                  6.648387                  6.700000   \n",
       "2025-01-01                  6.645161                  6.696774   \n",
       "\n",
       "            Bond Yields_lag_7  Bond Yields_lag_10  Bond Yields_lag_14  \\\n",
       "2024-12-23           3.223018            3.210714            3.194309   \n",
       "2024-12-24           3.227119            3.214815            3.198411   \n",
       "2024-12-25           3.231220            3.218916            3.202512   \n",
       "2024-12-26           3.235321            3.223018            3.206613   \n",
       "2024-12-27           3.239422            3.227119            3.210714   \n",
       "2024-12-28           3.243523            3.231220            3.214815   \n",
       "2024-12-29           3.247625            3.235321            3.218916   \n",
       "2024-12-30           3.251726            3.239422            3.223018   \n",
       "2024-12-31           3.255827            3.243523            3.227119   \n",
       "2025-01-01           3.259928            3.247625            3.231220   \n",
       "\n",
       "            Bond Yields_lag_30  before_holiday  tavg_weekend  \n",
       "2024-12-23            3.192700               1          -0.0  \n",
       "2024-12-24            3.188800               1          -0.0  \n",
       "2024-12-25            3.184900               0          -0.0  \n",
       "2024-12-26            3.181000               0          -0.0  \n",
       "2024-12-27            3.177100               0          -0.0  \n",
       "2024-12-28            3.173200               1          -6.2  \n",
       "2024-12-29            3.169300               1           1.3  \n",
       "2024-12-30            3.165400               1           0.0  \n",
       "2024-12-31            3.161500               1           0.0  \n",
       "2025-01-01            3.165601               0           0.0  \n",
       "\n",
       "[10 rows x 24 columns]"
      ]
     },
     "execution_count": 80,
     "metadata": {},
     "output_type": "execute_result"
    }
   ],
   "source": [
    "data"
   ]
  },
  {
   "cell_type": "code",
   "execution_count": 101,
   "metadata": {},
   "outputs": [],
   "source": [
    "coffee_predictions = fp.load_sales_model_and_forecast('sales_models/xgb_model_Coffee.pkl', data, date)"
   ]
  },
  {
   "cell_type": "code",
   "execution_count": 102,
   "metadata": {},
   "outputs": [],
   "source": [
    "without_coffee_predictions = fp.load_sales_model_and_forecast('sales_models/xgb_model_Without_Coffee.pkl', data, date)"
   ]
  },
  {
   "cell_type": "code",
   "execution_count": 103,
   "metadata": {},
   "outputs": [],
   "source": [
    "food_predictions = fp.load_sales_model_and_forecast('sales_models/xgb_model_Food.pkl', data, date)"
   ]
  },
  {
   "cell_type": "code",
   "execution_count": 104,
   "metadata": {},
   "outputs": [
    {
     "data": {
      "application/vnd.microsoft.datawrangler.viewer.v0+json": {
       "columns": [
        {
         "name": "index",
         "rawType": "datetime64[ns]",
         "type": "datetime"
        },
        {
         "name": "sales",
         "rawType": "float32",
         "type": "float"
        }
       ],
       "conversionMethod": "pd.DataFrame",
       "ref": "d21a89a9-16dd-4ae5-96b9-99f5d45b306e",
       "rows": [
        [
         "2024-12-23 00:00:00",
         "576.2764"
        ],
        [
         "2024-12-24 00:00:00",
         "579.59076"
        ],
        [
         "2024-12-25 00:00:00",
         "622.88257"
        ],
        [
         "2024-12-26 00:00:00",
         "567.7188"
        ],
        [
         "2024-12-27 00:00:00",
         "631.0454"
        ],
        [
         "2024-12-28 00:00:00",
         "706.2372"
        ],
        [
         "2024-12-29 00:00:00",
         "805.075"
        ],
        [
         "2024-12-30 00:00:00",
         "566.07294"
        ],
        [
         "2024-12-31 00:00:00",
         "588.1367"
        ],
        [
         "2025-01-01 00:00:00",
         "594.0649"
        ]
       ],
       "shape": {
        "columns": 1,
        "rows": 10
       }
      },
      "text/html": [
       "<div>\n",
       "<style scoped>\n",
       "    .dataframe tbody tr th:only-of-type {\n",
       "        vertical-align: middle;\n",
       "    }\n",
       "\n",
       "    .dataframe tbody tr th {\n",
       "        vertical-align: top;\n",
       "    }\n",
       "\n",
       "    .dataframe thead th {\n",
       "        text-align: right;\n",
       "    }\n",
       "</style>\n",
       "<table border=\"1\" class=\"dataframe\">\n",
       "  <thead>\n",
       "    <tr style=\"text-align: right;\">\n",
       "      <th></th>\n",
       "      <th>sales</th>\n",
       "    </tr>\n",
       "  </thead>\n",
       "  <tbody>\n",
       "    <tr>\n",
       "      <th>2024-12-23</th>\n",
       "      <td>576.276428</td>\n",
       "    </tr>\n",
       "    <tr>\n",
       "      <th>2024-12-24</th>\n",
       "      <td>579.590759</td>\n",
       "    </tr>\n",
       "    <tr>\n",
       "      <th>2024-12-25</th>\n",
       "      <td>622.882568</td>\n",
       "    </tr>\n",
       "    <tr>\n",
       "      <th>2024-12-26</th>\n",
       "      <td>567.718811</td>\n",
       "    </tr>\n",
       "    <tr>\n",
       "      <th>2024-12-27</th>\n",
       "      <td>631.045410</td>\n",
       "    </tr>\n",
       "    <tr>\n",
       "      <th>2024-12-28</th>\n",
       "      <td>706.237183</td>\n",
       "    </tr>\n",
       "    <tr>\n",
       "      <th>2024-12-29</th>\n",
       "      <td>805.075012</td>\n",
       "    </tr>\n",
       "    <tr>\n",
       "      <th>2024-12-30</th>\n",
       "      <td>566.072937</td>\n",
       "    </tr>\n",
       "    <tr>\n",
       "      <th>2024-12-31</th>\n",
       "      <td>588.136719</td>\n",
       "    </tr>\n",
       "    <tr>\n",
       "      <th>2025-01-01</th>\n",
       "      <td>594.064880</td>\n",
       "    </tr>\n",
       "  </tbody>\n",
       "</table>\n",
       "</div>"
      ],
      "text/plain": [
       "                 sales\n",
       "2024-12-23  576.276428\n",
       "2024-12-24  579.590759\n",
       "2024-12-25  622.882568\n",
       "2024-12-26  567.718811\n",
       "2024-12-27  631.045410\n",
       "2024-12-28  706.237183\n",
       "2024-12-29  805.075012\n",
       "2024-12-30  566.072937\n",
       "2024-12-31  588.136719\n",
       "2025-01-01  594.064880"
      ]
     },
     "execution_count": 104,
     "metadata": {},
     "output_type": "execute_result"
    }
   ],
   "source": [
    "coffee_predictions"
   ]
  },
  {
   "cell_type": "code",
   "execution_count": 105,
   "metadata": {},
   "outputs": [
    {
     "data": {
      "application/vnd.microsoft.datawrangler.viewer.v0+json": {
       "columns": [
        {
         "name": "index",
         "rawType": "datetime64[ns]",
         "type": "datetime"
        },
        {
         "name": "sales",
         "rawType": "float32",
         "type": "float"
        }
       ],
       "conversionMethod": "pd.DataFrame",
       "ref": "00717435-77a7-4a8c-b7a8-c6e852c71461",
       "rows": [
        [
         "2024-12-23 00:00:00",
         "372.66544"
        ],
        [
         "2024-12-24 00:00:00",
         "396.02783"
        ],
        [
         "2024-12-25 00:00:00",
         "386.49057"
        ],
        [
         "2024-12-26 00:00:00",
         "346.2403"
        ],
        [
         "2024-12-27 00:00:00",
         "379.19012"
        ],
        [
         "2024-12-28 00:00:00",
         "481.8643"
        ],
        [
         "2024-12-29 00:00:00",
         "484.57175"
        ],
        [
         "2024-12-30 00:00:00",
         "339.88766"
        ],
        [
         "2024-12-31 00:00:00",
         "359.67667"
        ],
        [
         "2025-01-01 00:00:00",
         "364.4339"
        ]
       ],
       "shape": {
        "columns": 1,
        "rows": 10
       }
      },
      "text/html": [
       "<div>\n",
       "<style scoped>\n",
       "    .dataframe tbody tr th:only-of-type {\n",
       "        vertical-align: middle;\n",
       "    }\n",
       "\n",
       "    .dataframe tbody tr th {\n",
       "        vertical-align: top;\n",
       "    }\n",
       "\n",
       "    .dataframe thead th {\n",
       "        text-align: right;\n",
       "    }\n",
       "</style>\n",
       "<table border=\"1\" class=\"dataframe\">\n",
       "  <thead>\n",
       "    <tr style=\"text-align: right;\">\n",
       "      <th></th>\n",
       "      <th>sales</th>\n",
       "    </tr>\n",
       "  </thead>\n",
       "  <tbody>\n",
       "    <tr>\n",
       "      <th>2024-12-23</th>\n",
       "      <td>372.665436</td>\n",
       "    </tr>\n",
       "    <tr>\n",
       "      <th>2024-12-24</th>\n",
       "      <td>396.027832</td>\n",
       "    </tr>\n",
       "    <tr>\n",
       "      <th>2024-12-25</th>\n",
       "      <td>386.490570</td>\n",
       "    </tr>\n",
       "    <tr>\n",
       "      <th>2024-12-26</th>\n",
       "      <td>346.240295</td>\n",
       "    </tr>\n",
       "    <tr>\n",
       "      <th>2024-12-27</th>\n",
       "      <td>379.190125</td>\n",
       "    </tr>\n",
       "    <tr>\n",
       "      <th>2024-12-28</th>\n",
       "      <td>481.864288</td>\n",
       "    </tr>\n",
       "    <tr>\n",
       "      <th>2024-12-29</th>\n",
       "      <td>484.571747</td>\n",
       "    </tr>\n",
       "    <tr>\n",
       "      <th>2024-12-30</th>\n",
       "      <td>339.887665</td>\n",
       "    </tr>\n",
       "    <tr>\n",
       "      <th>2024-12-31</th>\n",
       "      <td>359.676666</td>\n",
       "    </tr>\n",
       "    <tr>\n",
       "      <th>2025-01-01</th>\n",
       "      <td>364.433899</td>\n",
       "    </tr>\n",
       "  </tbody>\n",
       "</table>\n",
       "</div>"
      ],
      "text/plain": [
       "                 sales\n",
       "2024-12-23  372.665436\n",
       "2024-12-24  396.027832\n",
       "2024-12-25  386.490570\n",
       "2024-12-26  346.240295\n",
       "2024-12-27  379.190125\n",
       "2024-12-28  481.864288\n",
       "2024-12-29  484.571747\n",
       "2024-12-30  339.887665\n",
       "2024-12-31  359.676666\n",
       "2025-01-01  364.433899"
      ]
     },
     "execution_count": 105,
     "metadata": {},
     "output_type": "execute_result"
    }
   ],
   "source": [
    "food_predictions"
   ]
  },
  {
   "cell_type": "code",
   "execution_count": 106,
   "metadata": {},
   "outputs": [
    {
     "data": {
      "application/vnd.microsoft.datawrangler.viewer.v0+json": {
       "columns": [
        {
         "name": "index",
         "rawType": "datetime64[ns]",
         "type": "datetime"
        },
        {
         "name": "sales",
         "rawType": "float32",
         "type": "float"
        }
       ],
       "conversionMethod": "pd.DataFrame",
       "ref": "0c546508-29fd-4c20-9d9a-0a5c97db373e",
       "rows": [
        [
         "2024-12-23 00:00:00",
         "141.19856"
        ],
        [
         "2024-12-24 00:00:00",
         "153.3762"
        ],
        [
         "2024-12-25 00:00:00",
         "124.44791"
        ],
        [
         "2024-12-26 00:00:00",
         "141.19856"
        ],
        [
         "2024-12-27 00:00:00",
         "155.80652"
        ],
        [
         "2024-12-28 00:00:00",
         "215.24509"
        ],
        [
         "2024-12-29 00:00:00",
         "230.38516"
        ],
        [
         "2024-12-30 00:00:00",
         "154.2706"
        ],
        [
         "2024-12-31 00:00:00",
         "154.80719"
        ],
        [
         "2025-01-01 00:00:00",
         "138.44632"
        ]
       ],
       "shape": {
        "columns": 1,
        "rows": 10
       }
      },
      "text/html": [
       "<div>\n",
       "<style scoped>\n",
       "    .dataframe tbody tr th:only-of-type {\n",
       "        vertical-align: middle;\n",
       "    }\n",
       "\n",
       "    .dataframe tbody tr th {\n",
       "        vertical-align: top;\n",
       "    }\n",
       "\n",
       "    .dataframe thead th {\n",
       "        text-align: right;\n",
       "    }\n",
       "</style>\n",
       "<table border=\"1\" class=\"dataframe\">\n",
       "  <thead>\n",
       "    <tr style=\"text-align: right;\">\n",
       "      <th></th>\n",
       "      <th>sales</th>\n",
       "    </tr>\n",
       "  </thead>\n",
       "  <tbody>\n",
       "    <tr>\n",
       "      <th>2024-12-23</th>\n",
       "      <td>141.198563</td>\n",
       "    </tr>\n",
       "    <tr>\n",
       "      <th>2024-12-24</th>\n",
       "      <td>153.376205</td>\n",
       "    </tr>\n",
       "    <tr>\n",
       "      <th>2024-12-25</th>\n",
       "      <td>124.447906</td>\n",
       "    </tr>\n",
       "    <tr>\n",
       "      <th>2024-12-26</th>\n",
       "      <td>141.198563</td>\n",
       "    </tr>\n",
       "    <tr>\n",
       "      <th>2024-12-27</th>\n",
       "      <td>155.806519</td>\n",
       "    </tr>\n",
       "    <tr>\n",
       "      <th>2024-12-28</th>\n",
       "      <td>215.245087</td>\n",
       "    </tr>\n",
       "    <tr>\n",
       "      <th>2024-12-29</th>\n",
       "      <td>230.385162</td>\n",
       "    </tr>\n",
       "    <tr>\n",
       "      <th>2024-12-30</th>\n",
       "      <td>154.270599</td>\n",
       "    </tr>\n",
       "    <tr>\n",
       "      <th>2024-12-31</th>\n",
       "      <td>154.807190</td>\n",
       "    </tr>\n",
       "    <tr>\n",
       "      <th>2025-01-01</th>\n",
       "      <td>138.446320</td>\n",
       "    </tr>\n",
       "  </tbody>\n",
       "</table>\n",
       "</div>"
      ],
      "text/plain": [
       "                 sales\n",
       "2024-12-23  141.198563\n",
       "2024-12-24  153.376205\n",
       "2024-12-25  124.447906\n",
       "2024-12-26  141.198563\n",
       "2024-12-27  155.806519\n",
       "2024-12-28  215.245087\n",
       "2024-12-29  230.385162\n",
       "2024-12-30  154.270599\n",
       "2024-12-31  154.807190\n",
       "2025-01-01  138.446320"
      ]
     },
     "execution_count": 106,
     "metadata": {},
     "output_type": "execute_result"
    }
   ],
   "source": [
    "without_coffee_predictions"
   ]
  }
 ],
 "metadata": {
  "kernelspec": {
   "display_name": ".venv",
   "language": "python",
   "name": "python3"
  },
  "language_info": {
   "codemirror_mode": {
    "name": "ipython",
    "version": 3
   },
   "file_extension": ".py",
   "mimetype": "text/x-python",
   "name": "python",
   "nbconvert_exporter": "python",
   "pygments_lexer": "ipython3",
   "version": "3.13.0"
  }
 },
 "nbformat": 4,
 "nbformat_minor": 2
}
